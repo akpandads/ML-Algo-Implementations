{
 "cells": [
  {
   "cell_type": "markdown",
   "metadata": {},
   "source": [
    "# Naive Bayes Classifier"
   ]
  },
  {
   "attachments": {
    "image.png": {
     "image/png": "[encoded data removed]"
    }
   },
   "cell_type": "markdown",
   "metadata": {},
   "source": [
    "Naive Bayes is the theory of conditional probablity. It is denoted by the formulae.![image.png](attachment:image.png)\n",
    "Where p(x|c) denotes probaility of x given c,<br>\n",
    "p(c) is probability of c,<br>\n",
    "p(x) is probability of x,<br>\n",
    "And we are trying to calculate p(c|x) which os nothing but probability of c given x"
   ]
  },
  {
   "cell_type": "markdown",
   "metadata": {},
   "source": [
    "NB classifier is an attempt to classify a given piece of data into a class based on the probablity of the input belonging to that class. The higher probablity for a certain class, classifies the same into that class"
   ]
  },
  {
   "cell_type": "markdown",
   "metadata": {},
   "source": [
    "## Document classifier with Naive Bayes"
   ]
  },
  {
   "cell_type": "markdown",
   "metadata": {},
   "source": [
    "A token is any combination of charachters. Every text string is converted into vector of tokens. If the token is present then, value 1 represents that. Abscence is denoted by value 0"
   ]
  },
  {
   "cell_type": "code",
   "execution_count": 2,
   "metadata": {},
   "outputs": [],
   "source": [
    "# The below method converts a word list into vector\n",
    "def loadDataSet():\n",
    "    postingList=[['my', 'dog', 'has', 'flea', 'problems', 'help', 'please'],\n",
    "                 ['maybe', 'not', 'take', 'him', 'to', 'dog', 'park', 'stupid'],\n",
    "                 ['my', 'dalmation', 'is', 'so', 'cute', 'I', 'love', 'him'],\n",
    "                 ['stop', 'posting', 'stupid', 'worthless', 'garbage'],\n",
    "                 ['mr', 'licks', 'ate', 'my', 'steak', 'how', 'to', 'stop', 'him'],\n",
    "                 ['quit', 'buying', 'worthless', 'dog', 'food', 'stupid']]\n",
    "    classVec = [0,1,0,1,0,1]    #1 is abusive, 0 not\n",
    "    return postingList,classVec\n",
    "\n",
    "def createVocabList(dataset):\n",
    "    vocabset=set([])\n",
    "    for document in dataset:\n",
    "        vocabset =vocabset | set(document) # this is union operation. Bitwise OR and set Union has the same operations\n",
    "    return list(vocabset)\n",
    "\n",
    "def setOfWordsToVector(vocabList,inputList):\n",
    "    returnVector = [0]*len(vocabList)\n",
    "    for word in inputList:\n",
    "        if word in vocabList:\n",
    "            returnVector[vocabList.index(word)] =1\n",
    "        else:\n",
    "            print (\"the word % is not in vocabulary \"%word)\n",
    "    return returnVector\n"
   ]
  },
  {
   "cell_type": "code",
   "execution_count": 3,
   "metadata": {},
   "outputs": [
    {
     "data": {
      "text/plain": [
       "['him',\n",
       " 'stop',\n",
       " 'posting',\n",
       " 'dog',\n",
       " 'food',\n",
       " 'not',\n",
       " 'to',\n",
       " 'is',\n",
       " 'buying',\n",
       " 'ate',\n",
       " 'worthless',\n",
       " 'I',\n",
       " 'dalmation',\n",
       " 'flea',\n",
       " 'so',\n",
       " 'steak',\n",
       " 'licks',\n",
       " 'quit',\n",
       " 'stupid',\n",
       " 'love',\n",
       " 'help',\n",
       " 'please',\n",
       " 'maybe',\n",
       " 'take',\n",
       " 'my',\n",
       " 'park',\n",
       " 'cute',\n",
       " 'garbage',\n",
       " 'problems',\n",
       " 'how',\n",
       " 'mr',\n",
       " 'has']"
      ]
     },
     "execution_count": 3,
     "metadata": {},
     "output_type": "execute_result"
    }
   ],
   "source": [
    "listOfPosts,listOfClasses = loadDataSet()\n",
    "myVocabList = createVocabList(listOfPosts)\n",
    "myVocabList"
   ]
  },
  {
   "cell_type": "code",
   "execution_count": 6,
   "metadata": {},
   "outputs": [
    {
     "data": {
      "text/plain": [
       "[0,\n",
       " 0,\n",
       " 0,\n",
       " 1,\n",
       " 0,\n",
       " 0,\n",
       " 0,\n",
       " 0,\n",
       " 0,\n",
       " 0,\n",
       " 0,\n",
       " 0,\n",
       " 0,\n",
       " 1,\n",
       " 0,\n",
       " 0,\n",
       " 0,\n",
       " 0,\n",
       " 0,\n",
       " 0,\n",
       " 1,\n",
       " 1,\n",
       " 0,\n",
       " 0,\n",
       " 1,\n",
       " 0,\n",
       " 0,\n",
       " 0,\n",
       " 1,\n",
       " 0,\n",
       " 0,\n",
       " 1]"
      ]
     },
     "execution_count": 6,
     "metadata": {},
     "output_type": "execute_result"
    }
   ],
   "source": [
    "setOfWordsToVector(myVocabList,listOfPosts[0])"
   ]
  },
  {
   "cell_type": "code",
   "execution_count": 32,
   "metadata": {},
   "outputs": [],
   "source": [
    "from numpy import *\n",
    "def trainNB0(trainMatrix,trainCategory):\n",
    "    numTrainDocs = len(trainMatrix)\n",
    "    numWords = len(trainMatrix[0])\n",
    "    pAbusive = sum(trainCategory)/float(numTrainDocs)\n",
    "    #The below steps ensure that all multiplications of probablity which have possible output 0 is elimimnated\n",
    "    p0Num = ones(numWords); p1Num = ones(numWords)      #change to ones() \n",
    "    p0Denom = 2.0; p1Denom = 2.0                        #change to 2.0\n",
    "    for i in range(numTrainDocs):\n",
    "        if trainCategory[i] == 1:\n",
    "            p1Num += trainMatrix[i]\n",
    "            p1Denom += sum(trainMatrix[i])\n",
    "        else:\n",
    "            p0Num += trainMatrix[i]\n",
    "            p0Denom += sum(trainMatrix[i])\n",
    "    p1Vect = p1Num/p1Denom          \n",
    "    p0Vect = p0Num/p0Denom\n",
    "    \n",
    "    # below conversion to log is because multiplying many small nnumbers in python will result in data underflow giving ultimately 0\n",
    "    p1Vect = log(p1Num/p1Denom)          \n",
    "    p0Vect = log(p0Num/p0Denom)\n",
    "    \n",
    "    return p0Vect,p1Vect,pAbusive\n"
   ]
  },
  {
   "cell_type": "code",
   "execution_count": 33,
   "metadata": {},
   "outputs": [],
   "source": [
    "trainMat=[]\n",
    "for postInDoc in listOfPosts:\n",
    "    trainMat.append(setOfWordsToVector(myVocabList,postInDoc))\n",
    "\n",
    "p0V,p1V,pAV = trainNB0(trainMat,listOfClasses)\n"
   ]
  },
  {
   "cell_type": "code",
   "execution_count": 34,
   "metadata": {},
   "outputs": [
    {
     "data": {
      "text/plain": [
       "array([-2.15948425, -2.56494936, -3.25809654, -2.56494936, -3.25809654,\n",
       "       -3.25809654, -2.56494936, -2.56494936, -3.25809654, -2.56494936,\n",
       "       -3.25809654, -2.56494936, -2.56494936, -2.56494936, -2.56494936,\n",
       "       -2.56494936, -2.56494936, -3.25809654, -3.25809654, -2.56494936,\n",
       "       -2.56494936, -2.56494936, -3.25809654, -3.25809654, -1.87180218,\n",
       "       -3.25809654, -2.56494936, -3.25809654, -2.56494936, -2.56494936,\n",
       "       -2.56494936, -2.56494936])"
      ]
     },
     "execution_count": 34,
     "metadata": {},
     "output_type": "execute_result"
    }
   ],
   "source": [
    "p0V"
   ]
  },
  {
   "cell_type": "code",
   "execution_count": 35,
   "metadata": {},
   "outputs": [
    {
     "data": {
      "text/plain": [
       "array([-2.35137526, -2.35137526, -2.35137526, -1.94591015, -2.35137526,\n",
       "       -2.35137526, -2.35137526, -3.04452244, -2.35137526, -3.04452244,\n",
       "       -1.94591015, -3.04452244, -3.04452244, -3.04452244, -3.04452244,\n",
       "       -3.04452244, -3.04452244, -2.35137526, -1.65822808, -3.04452244,\n",
       "       -3.04452244, -3.04452244, -2.35137526, -2.35137526, -3.04452244,\n",
       "       -2.35137526, -3.04452244, -2.35137526, -3.04452244, -3.04452244,\n",
       "       -3.04452244, -3.04452244])"
      ]
     },
     "execution_count": 35,
     "metadata": {},
     "output_type": "execute_result"
    }
   ],
   "source": [
    "p1V"
   ]
  },
  {
   "cell_type": "code",
   "execution_count": 36,
   "metadata": {},
   "outputs": [
    {
     "data": {
      "text/plain": [
       "0.5"
      ]
     },
     "execution_count": 36,
     "metadata": {},
     "output_type": "execute_result"
    }
   ],
   "source": [
    "pAV"
   ]
  },
  {
   "cell_type": "code",
   "execution_count": 49,
   "metadata": {},
   "outputs": [],
   "source": [
    "\n",
    "def classifyNB(vec2Classify, p0Vec, p1Vec, pClass1):\n",
    "    p1 = sum(vec2Classify * p1Vec) + log(pClass1)    #element-wise mult\n",
    "    p0 = sum(vec2Classify * p0Vec) + log(1.0 - pClass1)\n",
    "    if p1 > p0:\n",
    "        return 1\n",
    "    else: \n",
    "        return 0"
   ]
  },
  {
   "cell_type": "code",
   "execution_count": 56,
   "metadata": {},
   "outputs": [],
   "source": [
    "def testingNB():\n",
    "    listOPosts,listClasses = loadDataSet()\n",
    "    myVocabList = createVocabList(listOPosts)\n",
    "    trainMat=[]\n",
    "    for postinDoc in listOPosts:\n",
    "        trainMat.append(setOfWordsToVector(myVocabList, postinDoc))\n",
    "    p0V,p1V,pAb = trainNB0(array(trainMat),array(listClasses))\n",
    "    testEntry = ['love', 'my', 'dalmation']\n",
    "    thisDoc = array(setOfWordsToVector(myVocabList, testEntry))\n",
    "    print (str(testEntry)+'classified as: '+str(classifyNB(thisDoc,p0V,p1V,pAb)))\n",
    "    testEntry = ['stupid', 'garbage']\n",
    "    thisDoc = array(setOfWordsToVector(myVocabList, testEntry))\n",
    "    print (str(testEntry)+'classified as: '+str(classifyNB(thisDoc,p0V,p1V,pAb)))"
   ]
  },
  {
   "cell_type": "code",
   "execution_count": 57,
   "metadata": {},
   "outputs": [
    {
     "name": "stdout",
     "output_type": "stream",
     "text": [
      "['love', 'my', 'dalmation']classified as: 0\n",
      "['stupid', 'garbage']classified as: 1\n"
     ]
    }
   ],
   "source": [
    "testingNB()"
   ]
  },
  {
   "cell_type": "markdown",
   "metadata": {},
   "source": [
    "### Till now basic implementation of Naive Bayes using Python. Below is the usage using Sklearn"
   ]
  },
  {
   "attachments": {
    "image.png": {
     "image/png": "[encoded data removed]"
    }
   },
   "cell_type": "markdown",
   "metadata": {},
   "source": [
    "In sklearn we have Gaussian Naive Bayes as the most common Bayes Classifier. It uses the below formula ![image.png](attachment:image.png)"
   ]
  },
  {
   "cell_type": "markdown",
   "metadata": {},
   "source": [
    "Example of Iris dataset"
   ]
  },
  {
   "cell_type": "code",
   "execution_count": 58,
   "metadata": {},
   "outputs": [
    {
     "name": "stdout",
     "output_type": "stream",
     "text": [
      "Number of mislabeled points out of a total 150 points : 6\n"
     ]
    }
   ],
   "source": [
    "from sklearn import datasets\n",
    "from sklearn.naive_bayes import GaussianNB\n",
    "\n",
    "iris = datasets.load_iris()\n",
    "gnb = GaussianNB()\n",
    "y_pred = gnb.fit(iris.data, iris.target).predict(iris.data)\n",
    "print(\"Number of mislabeled points out of a total %d points : %d\" % (iris.data.shape[0],(iris.target != y_pred).sum()))\n"
   ]
  },
  {
   "cell_type": "code",
   "execution_count": null,
   "metadata": {},
   "outputs": [],
   "source": []
  }
 ],
 "metadata": {
  "kernelspec": {
   "display_name": "Python 3",
   "language": "python",
   "name": "python3"
  },
  "language_info": {
   "codemirror_mode": {
    "name": "ipython",
    "version": 3
   },
   "file_extension": ".py",
   "mimetype": "text/x-python",
   "name": "python",
   "nbconvert_exporter": "python",
   "pygments_lexer": "ipython3",
   "version": "3.6.5"
  }
 },
 "nbformat": 4,
 "nbformat_minor": 2
}
